{
 "cells": [
  {
   "cell_type": "markdown",
   "metadata": {},
   "source": [
    "## AA-ICP: Iterative Closest Point with Anderson Acceleration\n",
    "\n",
    "Main idea:\n",
    " * ICP uses iterative process, each iteration returns a transformation.\n",
    " * Using AA on these transformations may improve convergence.\n",
    " * ICP is considered a blackbox algorithm."
   ]
  },
  {
   "cell_type": "markdown",
   "metadata": {},
   "source": [
    "Reading some 3D model:"
   ]
  },
  {
   "cell_type": "code",
   "execution_count": 2,
   "metadata": {},
   "outputs": [],
   "source": [
    "# Read model\n",
    "\n",
    "# Visualize model\n"
   ]
  },
  {
   "cell_type": "markdown",
   "metadata": {},
   "source": [
    "We perform a random transformation of this model:"
   ]
  },
  {
   "cell_type": "code",
   "execution_count": 3,
   "metadata": {},
   "outputs": [],
   "source": [
    "# Do random transformation - shift and rotation.\n",
    "#  Shift might need to be small.\n",
    "#  Store transformation for future comparison\n",
    "\n",
    "#Visualize new model\n"
   ]
  },
  {
   "cell_type": "markdown",
   "metadata": {},
   "source": [
    "Now lets compare basic ICP algorithm with improved one:"
   ]
  },
  {
   "cell_type": "code",
   "execution_count": 1,
   "metadata": {},
   "outputs": [],
   "source": [
    "# Do ICP\n",
    "\n",
    "# Do ICP_AA\n",
    "\n",
    "# Compare results\n",
    "\n",
    "# Compare time\n",
    "\n",
    "# Plot convergence"
   ]
  },
  {
   "cell_type": "code",
   "execution_count": null,
   "metadata": {},
   "outputs": [],
   "source": [
    "from functools import partial\n",
    "from scipy.optimize import root\n",
    "from anderson import anderson\n",
    "from picard import picard\n",
    "\n",
    "# Signature is equivalent to scipy.optimize.root: root(F, x0, args, kwargs)\n",
    "\n",
    "\n",
    "maxiter = 100\n",
    "iterative_methods = {\n",
    "    \"Picard iterations\" : picard,\n",
    "    \"Anderson\" : anderson,\n",
    "    \"Anderson, limited alpha\" : partial(anderson, alpha_limit=10.0),\n",
    "    \"Anderson, positive alpha0\" : partial(anderson, alpha0_min=0.000),\n",
    "    \"Scipy's AA, default\" : (lambda F, x0, maxiter, *args, **kwargs: root((lambda x: F(x) - x), x0, method=\"anderson\", options = {\"nit\": maxiter}, *args, **kwargs).x),\n",
    "#    \"Scipy's AA, M=10\" : (lambda F, x0, maxiter: root((lambda x: F(x) - x), x0, method=\"anderson\", options = {\"nit\": maxiter, \"jac_options\":{\"M\":10}}).x),\n",
    "#    \"Scipy's AA, M=10, line_search=None\" : (lambda F, x0, maxiter: root((lambda x: F(x) - x), x0, method=\"anderson\", options = {\"nit\": maxiter, \"line_search\": None, \"jac_options\":{\"M\":10}}).x),\n",
    "#    \"Scipy's AA, M=10, line_search=None, w0\" : (lambda F, x0, maxiter: root((lambda x: F(x) - x), x0, method=\"anderson\", options = {\"nit\": maxiter, \"line_search\": None, \"jac_options\":{\"M\":10,\"w0\":0.0001}}).x),\n",
    "}"
   ]
  },
  {
   "cell_type": "code",
   "execution_count": null,
   "metadata": {},
   "outputs": [],
   "source": [
    "import matplotlib.pyplot as plt\n",
    "import numpy\n",
    "\n",
    "# Function\n",
    "def F(x):\n",
    "    root = numpy.array(range(x.size))\n",
    "    return (root + (x - root)/(1+abs(x - root)))\n",
    "# Starting point\n",
    "x0 = numpy.zeros(10)\n",
    "# Root\n",
    "x_star = picard(F, x0, maxiter = 10000)\n",
    "# How to calculate residual for the solution\n",
    "def residual(x):\n",
    "    #x_star = -np.array(range(x.size))\n",
    "    return numpy.linalg.norm(x - x_star)\n",
    "\n",
    "plt.rcParams[\"figure.figsize\"] = [16,9]\n",
    "\n",
    "for name, method in iterative_methods.items():\n",
    "    print(\"Current method : %s\" % name)\n",
    "    xs = [residual(x0)]\n",
    "    callback = (lambda x,r,xs=xs : xs.append(residual(x)))\n",
    "    xs += [residual(method(F, x0, maxiter = maxiter, callback = callback))]\n",
    "    plt.plot(xs, label = name)\n",
    "plt.title(\"Convergence of different methods\")\n",
    "plt.xlabel(\"Iterations\")\n",
    "plt.ylabel(\"Residue\")\n",
    "#plt.xscale(\"log\")\n",
    "plt.yscale(\"log\")\n",
    "plt.legend()\n",
    "plt.show()"
   ]
  }
 ],
 "metadata": {
  "kernelspec": {
   "display_name": "Python 3",
   "language": "python",
   "name": "python3"
  },
  "language_info": {
   "codemirror_mode": {
    "name": "ipython",
    "version": 3
   },
   "file_extension": ".py",
   "mimetype": "text/x-python",
   "name": "python",
   "nbconvert_exporter": "python",
   "pygments_lexer": "ipython3",
   "version": "3.8.3"
  }
 },
 "nbformat": 4,
 "nbformat_minor": 4
}
