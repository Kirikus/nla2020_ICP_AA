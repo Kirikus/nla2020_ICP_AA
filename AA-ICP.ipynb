{
 "cells": [
  {
   "cell_type": "markdown",
   "metadata": {},
   "source": [
    "## AA-ICP: Iterative Closest Point with Anderson Acceleration\n",
    "\n",
    "Main idea:\n",
    " * ICP uses iterative process, each iteration returns a transformation.\n",
    " * Using AA on these transformations may improve convergence.\n",
    " * ICP is considered a blackbox algorithm."
   ]
  },
  {
   "cell_type": "markdown",
   "metadata": {},
   "source": [
    "Reading some 3D model:"
   ]
  },
  {
   "cell_type": "code",
   "execution_count": 2,
   "metadata": {},
   "outputs": [],
   "source": [
    "# Read model\n",
    "\n",
    "# Visualize model\n"
   ]
  },
  {
   "cell_type": "markdown",
   "metadata": {},
   "source": [
    "We perform a random transformation of this model:"
   ]
  },
  {
   "cell_type": "code",
   "execution_count": 3,
   "metadata": {},
   "outputs": [],
   "source": [
    "# Do random transformation - shift and rotation.\n",
    "#  Shift might need to be small.\n",
    "#  Store transformation for future comparison\n",
    "\n",
    "#Visualize new model\n"
   ]
  },
  {
   "cell_type": "markdown",
   "metadata": {},
   "source": [
    "Now lets compare basic ICP algorithm with improved one:"
   ]
  },
  {
   "cell_type": "code",
   "execution_count": 1,
   "metadata": {},
   "outputs": [],
   "source": [
    "# Do ICP\n",
    "\n",
    "# Do ICP_AA\n",
    "\n",
    "# Compare results\n",
    "\n",
    "# Compare time\n",
    "\n",
    "# Plot convergence"
   ]
  }
 ],
 "metadata": {
  "kernelspec": {
   "display_name": "Python 3",
   "language": "python",
   "name": "python3"
  },
  "language_info": {
   "codemirror_mode": {
    "name": "ipython",
    "version": 3
   },
   "file_extension": ".py",
   "mimetype": "text/x-python",
   "name": "python",
   "nbconvert_exporter": "python",
   "pygments_lexer": "ipython3",
   "version": "3.8.3"
  }
 },
 "nbformat": 4,
 "nbformat_minor": 4
}
